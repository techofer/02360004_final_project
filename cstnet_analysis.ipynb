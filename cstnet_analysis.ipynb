{
 "cells": [
  {
   "cell_type": "markdown",
   "id": "653d63e4",
   "metadata": {},
   "source": [
    "# CSTNET analysis"
   ]
  },
  {
   "cell_type": "code",
   "execution_count": 1,
   "id": "29a3893c",
   "metadata": {},
   "outputs": [],
   "source": [
    "import pandas as pd\n",
    "import os"
   ]
  },
  {
   "cell_type": "code",
   "execution_count": 2,
   "id": "39473208",
   "metadata": {},
   "outputs": [],
   "source": [
    "path = \"cstnet-tls1.3_packet\\\\packet\"\n",
    "\n",
    "train = pd.read_csv(os.path.join(path, \"train_dataset.tsv\"), sep=\"\\t\", header=0)\n",
    "test = pd.read_csv(os.path.join(path, \"test_dataset.tsv\"), sep=\"\\t\", header=0)\n",
    "valid = pd.read_csv(os.path.join(path, \"valid_dataset.tsv\"), sep=\"\\t\", header=0)"
   ]
  },
  {
   "cell_type": "code",
   "execution_count": 3,
   "id": "88e7cca8",
   "metadata": {},
   "outputs": [
    {
     "data": {
      "text/plain": [
       "label\n",
       "81     4000\n",
       "88     4000\n",
       "98     4000\n",
       "39     4000\n",
       "113    4000\n",
       "       ... \n",
       "75     2222\n",
       "14     2034\n",
       "99     1922\n",
       "1      1818\n",
       "20      844\n",
       "Name: count, Length: 120, dtype: int64"
      ]
     },
     "execution_count": 3,
     "metadata": {},
     "output_type": "execute_result"
    }
   ],
   "source": [
    "train[\"label\"].value_counts()\n"
   ]
  },
  {
   "cell_type": "code",
   "execution_count": 4,
   "id": "d6db4ab5",
   "metadata": {},
   "outputs": [
    {
     "data": {
      "text/plain": [
       "label\n",
       "61     500\n",
       "103    500\n",
       "59     500\n",
       "50     500\n",
       "7      500\n",
       "      ... \n",
       "75     278\n",
       "14     254\n",
       "99     241\n",
       "1      227\n",
       "20     106\n",
       "Name: count, Length: 120, dtype: int64"
      ]
     },
     "execution_count": 4,
     "metadata": {},
     "output_type": "execute_result"
    }
   ],
   "source": [
    "test.label.value_counts()\n"
   ]
  },
  {
   "cell_type": "code",
   "execution_count": 5,
   "id": "433c5ef4",
   "metadata": {},
   "outputs": [
    {
     "data": {
      "text/plain": [
       "label\n",
       "2      500\n",
       "9      500\n",
       "110    500\n",
       "114    500\n",
       "21     500\n",
       "      ... \n",
       "75     278\n",
       "14     254\n",
       "99     240\n",
       "1      228\n",
       "20     105\n",
       "Name: count, Length: 120, dtype: int64"
      ]
     },
     "execution_count": 5,
     "metadata": {},
     "output_type": "execute_result"
    }
   ],
   "source": [
    "valid.label.value_counts()"
   ]
  },
  {
   "cell_type": "code",
   "execution_count": 6,
   "id": "dbb35c0a",
   "metadata": {},
   "outputs": [],
   "source": [
    "# how many packets from train, test, val\n",
    "a = train['label'].value_counts().reset_index()\n",
    "a.columns = ['label', 'train_count']\n",
    "\n",
    "b = test['label'].value_counts().reset_index()\n",
    "b.columns = ['label', 'test_count']\n",
    "\n",
    "c = valid['label'].value_counts().reset_index()\n",
    "c.columns = ['label', 'valid_count']\n",
    "\n",
    "counts = pd.merge(a, b, on='label')\n",
    "counts = pd.merge(counts, c, on='label')\n",
    "\n",
    "counts = counts.fillna(0)\n",
    "\n",
    "counts['train_count'] = counts['train_count'].astype(int)\n",
    "counts['test_count'] = counts['test_count'].astype(int)\n",
    "counts['valid_count'] = counts['valid_count'].astype(int)"
   ]
  },
  {
   "cell_type": "code",
   "execution_count": 7,
   "id": "d214fb07",
   "metadata": {},
   "outputs": [
    {
     "data": {
      "application/vnd.microsoft.datawrangler.viewer.v0+json": {
       "columns": [
        {
         "name": "index",
         "rawType": "int64",
         "type": "integer"
        },
        {
         "name": "label",
         "rawType": "int64",
         "type": "integer"
        },
        {
         "name": "train_count",
         "rawType": "int32",
         "type": "integer"
        },
        {
         "name": "test_count",
         "rawType": "int32",
         "type": "integer"
        },
        {
         "name": "valid_count",
         "rawType": "int32",
         "type": "integer"
        }
       ],
       "conversionMethod": "pd.DataFrame",
       "ref": "d5b0aa2f-7e6b-4ce9-93c9-003a89ced5b0",
       "rows": [
        [
         "0",
         "81",
         "4000",
         "500",
         "500"
        ],
        [
         "1",
         "88",
         "4000",
         "500",
         "500"
        ],
        [
         "2",
         "98",
         "4000",
         "500",
         "500"
        ],
        [
         "3",
         "39",
         "4000",
         "500",
         "500"
        ],
        [
         "4",
         "113",
         "4000",
         "500",
         "500"
        ],
        [
         "5",
         "24",
         "4000",
         "500",
         "500"
        ],
        [
         "6",
         "69",
         "4000",
         "500",
         "500"
        ],
        [
         "7",
         "6",
         "4000",
         "500",
         "500"
        ],
        [
         "8",
         "31",
         "4000",
         "500",
         "500"
        ],
        [
         "9",
         "36",
         "4000",
         "500",
         "500"
        ],
        [
         "10",
         "83",
         "4000",
         "500",
         "500"
        ],
        [
         "11",
         "42",
         "4000",
         "500",
         "500"
        ],
        [
         "12",
         "64",
         "4000",
         "500",
         "500"
        ],
        [
         "13",
         "23",
         "4000",
         "500",
         "500"
        ],
        [
         "14",
         "41",
         "4000",
         "500",
         "500"
        ],
        [
         "15",
         "71",
         "4000",
         "500",
         "500"
        ],
        [
         "16",
         "10",
         "4000",
         "500",
         "500"
        ],
        [
         "17",
         "110",
         "4000",
         "500",
         "500"
        ],
        [
         "18",
         "21",
         "4000",
         "500",
         "500"
        ],
        [
         "19",
         "111",
         "4000",
         "500",
         "500"
        ],
        [
         "20",
         "95",
         "4000",
         "500",
         "500"
        ],
        [
         "21",
         "68",
         "4000",
         "500",
         "500"
        ],
        [
         "22",
         "102",
         "4000",
         "500",
         "500"
        ],
        [
         "23",
         "57",
         "4000",
         "500",
         "500"
        ],
        [
         "24",
         "4",
         "4000",
         "500",
         "500"
        ],
        [
         "25",
         "49",
         "4000",
         "500",
         "500"
        ],
        [
         "26",
         "117",
         "4000",
         "500",
         "500"
        ],
        [
         "27",
         "104",
         "4000",
         "500",
         "500"
        ],
        [
         "28",
         "72",
         "4000",
         "500",
         "500"
        ],
        [
         "29",
         "34",
         "4000",
         "500",
         "500"
        ],
        [
         "30",
         "58",
         "4000",
         "500",
         "500"
        ],
        [
         "31",
         "55",
         "4000",
         "500",
         "500"
        ],
        [
         "32",
         "92",
         "4000",
         "500",
         "500"
        ],
        [
         "33",
         "109",
         "4000",
         "500",
         "500"
        ],
        [
         "34",
         "89",
         "4000",
         "500",
         "500"
        ],
        [
         "35",
         "7",
         "4000",
         "500",
         "500"
        ],
        [
         "36",
         "61",
         "4000",
         "500",
         "500"
        ],
        [
         "37",
         "82",
         "4000",
         "500",
         "500"
        ],
        [
         "38",
         "38",
         "4000",
         "500",
         "500"
        ],
        [
         "39",
         "11",
         "4000",
         "500",
         "500"
        ],
        [
         "40",
         "91",
         "4000",
         "500",
         "500"
        ],
        [
         "41",
         "78",
         "4000",
         "500",
         "500"
        ],
        [
         "42",
         "56",
         "4000",
         "500",
         "500"
        ],
        [
         "43",
         "9",
         "4000",
         "500",
         "500"
        ],
        [
         "44",
         "94",
         "4000",
         "500",
         "500"
        ],
        [
         "45",
         "52",
         "4000",
         "500",
         "500"
        ],
        [
         "46",
         "86",
         "4000",
         "500",
         "500"
        ],
        [
         "47",
         "65",
         "4000",
         "500",
         "500"
        ],
        [
         "48",
         "54",
         "4000",
         "500",
         "500"
        ],
        [
         "49",
         "67",
         "4000",
         "500",
         "500"
        ]
       ],
       "shape": {
        "columns": 4,
        "rows": 110
       }
      },
      "text/html": [
       "<div>\n",
       "<style scoped>\n",
       "    .dataframe tbody tr th:only-of-type {\n",
       "        vertical-align: middle;\n",
       "    }\n",
       "\n",
       "    .dataframe tbody tr th {\n",
       "        vertical-align: top;\n",
       "    }\n",
       "\n",
       "    .dataframe thead th {\n",
       "        text-align: right;\n",
       "    }\n",
       "</style>\n",
       "<table border=\"1\" class=\"dataframe\">\n",
       "  <thead>\n",
       "    <tr style=\"text-align: right;\">\n",
       "      <th></th>\n",
       "      <th>label</th>\n",
       "      <th>train_count</th>\n",
       "      <th>test_count</th>\n",
       "      <th>valid_count</th>\n",
       "    </tr>\n",
       "  </thead>\n",
       "  <tbody>\n",
       "    <tr>\n",
       "      <th>0</th>\n",
       "      <td>81</td>\n",
       "      <td>4000</td>\n",
       "      <td>500</td>\n",
       "      <td>500</td>\n",
       "    </tr>\n",
       "    <tr>\n",
       "      <th>1</th>\n",
       "      <td>88</td>\n",
       "      <td>4000</td>\n",
       "      <td>500</td>\n",
       "      <td>500</td>\n",
       "    </tr>\n",
       "    <tr>\n",
       "      <th>2</th>\n",
       "      <td>98</td>\n",
       "      <td>4000</td>\n",
       "      <td>500</td>\n",
       "      <td>500</td>\n",
       "    </tr>\n",
       "    <tr>\n",
       "      <th>3</th>\n",
       "      <td>39</td>\n",
       "      <td>4000</td>\n",
       "      <td>500</td>\n",
       "      <td>500</td>\n",
       "    </tr>\n",
       "    <tr>\n",
       "      <th>4</th>\n",
       "      <td>113</td>\n",
       "      <td>4000</td>\n",
       "      <td>500</td>\n",
       "      <td>500</td>\n",
       "    </tr>\n",
       "    <tr>\n",
       "      <th>...</th>\n",
       "      <td>...</td>\n",
       "      <td>...</td>\n",
       "      <td>...</td>\n",
       "      <td>...</td>\n",
       "    </tr>\n",
       "    <tr>\n",
       "      <th>105</th>\n",
       "      <td>51</td>\n",
       "      <td>4000</td>\n",
       "      <td>500</td>\n",
       "      <td>500</td>\n",
       "    </tr>\n",
       "    <tr>\n",
       "      <th>106</th>\n",
       "      <td>96</td>\n",
       "      <td>4000</td>\n",
       "      <td>500</td>\n",
       "      <td>500</td>\n",
       "    </tr>\n",
       "    <tr>\n",
       "      <th>107</th>\n",
       "      <td>45</td>\n",
       "      <td>4000</td>\n",
       "      <td>500</td>\n",
       "      <td>500</td>\n",
       "    </tr>\n",
       "    <tr>\n",
       "      <th>108</th>\n",
       "      <td>70</td>\n",
       "      <td>4000</td>\n",
       "      <td>500</td>\n",
       "      <td>500</td>\n",
       "    </tr>\n",
       "    <tr>\n",
       "      <th>109</th>\n",
       "      <td>90</td>\n",
       "      <td>4000</td>\n",
       "      <td>500</td>\n",
       "      <td>500</td>\n",
       "    </tr>\n",
       "  </tbody>\n",
       "</table>\n",
       "<p>110 rows × 4 columns</p>\n",
       "</div>"
      ],
      "text/plain": [
       "     label  train_count  test_count  valid_count\n",
       "0       81         4000         500          500\n",
       "1       88         4000         500          500\n",
       "2       98         4000         500          500\n",
       "3       39         4000         500          500\n",
       "4      113         4000         500          500\n",
       "..     ...          ...         ...          ...\n",
       "105     51         4000         500          500\n",
       "106     96         4000         500          500\n",
       "107     45         4000         500          500\n",
       "108     70         4000         500          500\n",
       "109     90         4000         500          500\n",
       "\n",
       "[110 rows x 4 columns]"
      ]
     },
     "execution_count": 7,
     "metadata": {},
     "output_type": "execute_result"
    }
   ],
   "source": [
    "full_labels_df = counts[(counts['train_count'] == 4000) & (counts['test_count'] == 500) & (counts['valid_count'] == 500)]\n",
    "full_labels_df"
   ]
  },
  {
   "cell_type": "code",
   "execution_count": 8,
   "id": "f33126ce",
   "metadata": {},
   "outputs": [],
   "source": [
    "full_labels = full_labels_df['label'].values.tolist()\n",
    "full_labels.sort()"
   ]
  },
  {
   "cell_type": "code",
   "execution_count": 9,
   "id": "f7f769b3",
   "metadata": {},
   "outputs": [
    {
     "data": {
      "text/plain": [
       "[0,\n",
       " 2,\n",
       " 3,\n",
       " 4,\n",
       " 6,\n",
       " 7,\n",
       " 9,\n",
       " 10,\n",
       " 11,\n",
       " 12,\n",
       " 13,\n",
       " 15,\n",
       " 16,\n",
       " 17,\n",
       " 18,\n",
       " 19,\n",
       " 21,\n",
       " 22,\n",
       " 23,\n",
       " 24,\n",
       " 25,\n",
       " 26,\n",
       " 28,\n",
       " 29,\n",
       " 30,\n",
       " 31,\n",
       " 32,\n",
       " 33,\n",
       " 34,\n",
       " 35,\n",
       " 36,\n",
       " 37,\n",
       " 38,\n",
       " 39,\n",
       " 40,\n",
       " 41,\n",
       " 42,\n",
       " 43,\n",
       " 44,\n",
       " 45,\n",
       " 46,\n",
       " 47,\n",
       " 48,\n",
       " 49,\n",
       " 50,\n",
       " 51,\n",
       " 52,\n",
       " 53,\n",
       " 54,\n",
       " 55,\n",
       " 56,\n",
       " 57,\n",
       " 58,\n",
       " 59,\n",
       " 60,\n",
       " 61,\n",
       " 62,\n",
       " 63,\n",
       " 64,\n",
       " 65,\n",
       " 66,\n",
       " 67,\n",
       " 68,\n",
       " 69,\n",
       " 70,\n",
       " 71,\n",
       " 72,\n",
       " 74,\n",
       " 76,\n",
       " 77,\n",
       " 78,\n",
       " 80,\n",
       " 81,\n",
       " 82,\n",
       " 83,\n",
       " 84,\n",
       " 85,\n",
       " 86,\n",
       " 87,\n",
       " 88,\n",
       " 89,\n",
       " 90,\n",
       " 91,\n",
       " 92,\n",
       " 93,\n",
       " 94,\n",
       " 95,\n",
       " 96,\n",
       " 97,\n",
       " 98,\n",
       " 100,\n",
       " 101,\n",
       " 102,\n",
       " 103,\n",
       " 104,\n",
       " 105,\n",
       " 106,\n",
       " 107,\n",
       " 108,\n",
       " 109,\n",
       " 110,\n",
       " 111,\n",
       " 112,\n",
       " 113,\n",
       " 114,\n",
       " 115,\n",
       " 116,\n",
       " 117,\n",
       " 118,\n",
       " 119]"
      ]
     },
     "execution_count": 9,
     "metadata": {},
     "output_type": "execute_result"
    }
   ],
   "source": [
    "full_labels"
   ]
  },
  {
   "cell_type": "markdown",
   "id": "5a3ba256",
   "metadata": {},
   "source": [
    "Aside from 10 domains, all domains have 5000 packets, disted 80-10-10.\n",
    "We can chose 10 domains to finetune on, as per SoK article."
   ]
  },
  {
   "cell_type": "code",
   "execution_count": 10,
   "id": "f76ee789",
   "metadata": {},
   "outputs": [],
   "source": [
    "def count_seq_len(seq):\n",
    "    return len(seq.split(\" \"))\n",
    "\n",
    "train['packet_seq_len'] = train['text_a'].apply(count_seq_len)"
   ]
  },
  {
   "cell_type": "code",
   "execution_count": 11,
   "id": "b5b7ae73",
   "metadata": {},
   "outputs": [
    {
     "data": {
      "text/plain": [
       "packet_seq_len\n",
       "64    409797\n",
       "53     14628\n",
       "41     12933\n",
       "48      9147\n",
       "45      3853\n",
       "60      3545\n",
       "57      3064\n",
       "52      2039\n",
       "49      1823\n",
       "56      1752\n",
       "44       507\n",
       "63       349\n",
       "59       330\n",
       "61       250\n",
       "58       243\n",
       "43       225\n",
       "42       206\n",
       "47       101\n",
       "54        97\n",
       "50        86\n",
       "55        80\n",
       "46        74\n",
       "51        70\n",
       "62        64\n",
       "39        51\n",
       "40        28\n",
       "38        25\n",
       "Name: count, dtype: int64"
      ]
     },
     "execution_count": 11,
     "metadata": {},
     "output_type": "execute_result"
    }
   ],
   "source": [
    "train['packet_seq_len'].value_counts()"
   ]
  },
  {
   "cell_type": "markdown",
   "id": "e44ffebe",
   "metadata": {},
   "source": [
    "Almost all packets are 64 tokens length, meaning 128 bytes. This corresponds to the article claiming they take the first 128 byte (others are lower and probably small packets)."
   ]
  },
  {
   "cell_type": "code",
   "execution_count": 12,
   "id": "853dc17b",
   "metadata": {},
   "outputs": [
    {
     "data": {
      "application/vnd.microsoft.datawrangler.viewer.v0+json": {
       "columns": [
        {
         "name": "index",
         "rawType": "int64",
         "type": "integer"
        },
        {
         "name": "label",
         "rawType": "int64",
         "type": "integer"
        },
        {
         "name": "text_a",
         "rawType": "object",
         "type": "string"
        },
        {
         "name": "packet_seq_len",
         "rawType": "int64",
         "type": "integer"
        }
       ],
       "conversionMethod": "pd.DataFrame",
       "ref": "4e314330-613b-41fa-b638-22e5d54bf99a",
       "rows": [
        [
         "156366",
         "0",
         "01bb bb02 0262 6271 71c6 c61d 1d87 87f2 f2c3 c350 5018 1801 01fe fef1 f18f 8f00 0000 0017 1703 0303 0300 001a 1a54 54cf cf18 186c 6c98 9870 7084 84a5 a554 54cb cbb1 b103 03cd cd12 1288 88a8 a8ae ae9d 9dee ee9e 9e6f 6f88 884c 4cd2 d25f 5f32",
         "48"
        ],
        [
         "11605",
         "0",
         "01bb bb02 026f 6f73 73d3 d32a 2a79 7906 069b 9b80 8018 1800 00a2 a2ed ed74 7400 0000 0001 0101 0108 080a 0a0d 0d69 690a 0ab1 b1a8 a816 1617 170d 0d14 1403 0303 0300 0001 0101 0117 1703 0303 0300 0045 450b 0bed edf1 f116 16d4 d4a6 a6b3 b33a 3a4f 4f3e 3e42 42dd dd41 4156 56b9 b904 04e5 e502 0202 02c1 c114 14fe fedb db90",
         "64"
        ],
        [
         "303233",
         "0",
         "01bb bb02 026f 6f78 78c7 c72a 2a79 7906 069b 9b80 8010 1000 00a2 a256 569d 9d00 0000 0001 0101 0108 080a 0a0d 0d69 690a 0ab2 b2a8 a816 1617 170d 0d3a 3acb cbc4 c472 7280 807e 7e56 5683 83bd bd87 876f 6f3f 3f31 3176 7698 98af af47 479b 9bd1 d1ac aca7 a71f 1f07 0712 1288 884b 4b68 680d 0d23 2360 60e9 e9d6 d608 08a9 a94f",
         "64"
        ],
        [
         "132340",
         "0",
         "01bb bb02 026f 6f83 83a7 a72a 2a79 7909 0940 4080 8018 1800 00aa aaf7 f70c 0c00 0000 0001 0101 0108 080a 0a0d 0d69 690a 0ad7 d7a8 a816 1617 1717 1717 1703 0303 0300 001a 1add ddcb cba9 a9d0 d088 8878 78f6 f68f 8f03 033b 3b0d 0d78 7878 78ad adbf bfcd cd27 2770 7028 2897 97d9 d958 58e8 e8a7 a732 3216",
         "60"
        ],
        [
         "323343",
         "0",
         "01bb bb03 0375 75a4 a4aa aa9b 9b98 980d 0d55 5550 5018 1808 0800 00e7 e7bd bd00 0000 0014 1403 0303 0300 0001 0101 0117 1703 0303 0300 0045 456d 6d2b 2b75 754b 4b51 510d 0de2 e2f9 f994 94fb fb15 15c0 c02f 2f9d 9d9b 9bdb dbe7 e777 7709 09f7 f769 6978 785d 5d84 845f 5f08 0853 53d6 d690 90df df3b 3bd0 d0b7 b7a0 a0a0 a036",
         "64"
        ],
        [
         "423949",
         "0",
         "01bb bb03 0375 75a4 a4fa fa9b 9b98 980d 0d55 5550 5018 1808 0800 006c 6c09 0900 0000 0017 1703 0303 0300 0029 2988 885d 5d5f 5f28 28d0 d017 17a3 a38c 8c40 4037 3745 4589 8929 29d6 d63f 3fac ac89 8961 618d 8d84 845f 5f1a 1aa5 a5d8 d8fc fc5b 5b73 7399 99c5 c5e3 e3e5 e54c 4c3f 3f68 6865 654e 4ef0 f04b 4b74 740c 0c2d",
         "63"
        ],
        [
         "284547",
         "0",
         "01bb bb03 0375 75a5 a553 539b 9b98 980d 0d55 5550 5018 1808 0800 00bd bd98 9800 0000 0017 1703 0303 0300 001e 1ebc bc66 66c2 c210 10d8 d804 0411 11bd bdf5 f5f6 f689 8979 796b 6b5d 5d59 5908 08f6 f60b 0b88 882e 2efe fe4f 4f82 8251 510a 0a9d 9d10 10f5 f513 13b7",
         "52"
        ],
        [
         "331848",
         "0",
         "01bb bb03 0375 75a5 a576 769b 9b98 980d 0d55 5550 5010 1008 0800 0008 082c 2c00 0000 0017 1703 0303 0306 06ca caac ac0f 0fd0 d004 040f 0f48 4886 86d9 d9f6 f6b5 b5c2 c232 32f4 f47e 7e41 418f 8f3a 3a24 2420 2055 55ea ea1e 1ed7 d77c 7c6a 6a4c 4cf8 f839 399c 9c83 83b2 b224 24bc bc68 68e7 e75b 5ba9 a9cd cd5a 5a9f 9fb8 b82f",
         "64"
        ],
        [
         "437346",
         "0",
         "01bb bb03 0375 75aa aab2 b29b 9b98 980d 0d55 5550 5018 1808 0800 00a1 a14a 4a00 0000 0036 3631 3100 001a 1a04 049f 9f61 6109 091d 1d2c 2c3c 3cf6 f674 74f4 f4e8 e89b 9b94 949f 9fad adf1 f198 9867 6776 7634 341f 1f5d 5dd6 d671 710e 0e02 023c 3c23 237c 7c18 1860 60a7 a743 43e9 e948 48d2 d227 27e1 e14e 4eb6 b685 8579 79de",
         "64"
        ],
        [
         "86575",
         "0",
         "01bb bb03 0375 75ac ac45 459b 9b98 980f 0fd1 d150 5018 1808 0800 007f 7f32 3200 0000 0017 1703 0303 0300 001a 1a62 62bf bf2a 2a31 3159 591d 1d65 6594 94b8 b826 26be be47 4788 8865 6549 490e 0e60 60e0 e0e1 e196 964f 4f7f 7f07 0748 48a9 a9aa",
         "48"
        ],
        [
         "171483",
         "0",
         "01bb bb04 0439 3991 912c 2c17 17d4 d463 6354 5480 8018 1801 0179 7927 2762 6200 0000 0001 0101 0108 080a 0a6a 6aea ea7d 7d63 63eb ebd4 d43f 3fb9 b914 1403 0303 0300 0001 0101 0117 1703 0303 0300 0045 4598 98a0 a065 65df df5c 5cd2 d26f 6f08 0881 81e6 e6f8 f8bd bd95 9571 717b 7bb4 b41c 1cb6 b64c 4cb5 b574 7471 71ae ae6c",
         "64"
        ],
        [
         "164021",
         "0",
         "01bb bb04 0440 408a 8adb dbe1 e15f 5fb3 b3ee ee50 5018 1801 01fe fef2 f2ee ee00 0000 0017 1703 0303 0300 001a 1af9 f979 7973 73be be45 45ce ce31 31ae aeda da46 46f6 f6ad ad94 94cd cdf6 f6d8 d809 09db dbe9 e984 84a2 a267 674e 4e1f 1fe4 e448",
         "48"
        ],
        [
         "170114",
         "0",
         "01bb bb04 04b9 b9f8 f841 411e 1ed3 d39e 9ed7 d780 8018 1808 0800 00ad ad4f 4f00 0000 0001 0101 0108 080a 0a91 91a9 a9b8 b845 45c2 c2c6 c668 680a 0a17 1703 0303 0300 0026 26e6 e6eb eb7c 7c3c 3c29 295b 5b65 6568 68c6 c612 12b8 b808 0868 68e5 e5ad ad71 71eb ebd7 d77f 7f18 1879 79fd fda5 a5cb cb69 69bd bd52 52fe fe46 46ef",
         "64"
        ],
        [
         "75119",
         "0",
         "01bb bb04 04b9 b9f8 f88f 8f1e 1ed3 d39e 9ed7 d780 8010 1008 0800 0014 1427 2700 0000 0001 0101 0108 080a 0a91 91a9 a9b8 b845 45c2 c2c6 c668 680a 0a17 1703 0303 0304 04db db15 15e6 e620 20c5 c53b 3bba ba8c 8cde def2 f2f1 f1ac ac6a 6ad8 d814 1405 059e 9e24 24eb eb8d 8d20 2024 24c1 c10a 0a32 3257 572e 2ee0 e03f 3f43 434d",
         "64"
        ],
        [
         "101966",
         "0",
         "01bb bb04 04b9 b9fc fcd7 d71e 1ed3 d39e 9ed7 d780 8018 1808 0800 0041 412e 2e00 0000 0001 0101 0108 080a 0a91 91a9 a9b8 b845 45c2 c2c6 c668 680a 0aa0 a0ba ba67 6735 35df dfff ff34 3483 8323 235d 5d07 07f4 f4f4 f40c 0cc3 c39c 9cd1 d170 70e1 e127 270e 0e7c 7c0e 0eae aef6 f6cb cb66 6602 02c2 c2ef ef56 5615 1585 85db db0f",
         "64"
        ],
        [
         "121166",
         "0",
         "01bb bb04 04b9 b9ff ff15 151e 1ed3 d3a1 a169 6980 8018 1808 0800 000a 0ae8 e800 0000 0001 0101 0108 080a 0a91 91a9 a9b8 b86d 6dc2 c2c6 c668 681b 1b17 1703 0303 0300 001a 1afc fc36 36cc cc45 45be be35 3541 41fd fd55 552f 2fea ea9b 9b2a 2a5f 5fb3 b32e 2ef1 f112 1232 32a5 a5ce cec5 c5f2 f2b5 b543 430c",
         "60"
        ],
        [
         "164713",
         "0",
         "01bb bb06 0603 03f7 f744 4410 10ad adb3 b3b7 b750 5018 1802 0201 01fd fd9d 9d00 0000 0014 1403 0303 0300 0001 0101 0117 1703 0303 0300 0035 359b 9bb1 b113 13f9 f96b 6bf2 f2fe fe08 0815 15c7 c7cb cbe5 e5cd cd4d 4dba bafd fded ed5a 5a27 2755 55a7 a724 2494 94d5 d5b5 b52d 2dd1 d18f 8f15 153b 3bd1 d141 413f 3f4e 4eac ac2b",
         "64"
        ],
        [
         "30850",
         "0",
         "01bb bb06 0656 5641 41c9 c9b9 b9cb cba2 a2c0 c080 8010 1007 07f5 f5ed ed4e 4e00 0000 0001 0101 0108 080a 0a3d 3d85 85ba ba92 92c4 c4f7 f763 634b 4b5a 5a7e 7ef0 f0a2 a21c 1c51 51a4 a469 696e 6ebb bbbd bd5d 5d01 0106 06e3 e323 237e 7e2b 2b76 765d 5dd5 d5d1 d10a 0a50 5015 155f 5fe5 e592 925c 5c03 0350 5030 3081 81c6 c6a9",
         "64"
        ],
        [
         "27020",
         "0",
         "01bb bb06 0656 5642 4245 45b9 b9cb cba2 a2e3 e380 8010 1007 07f4 f426 266c 6c00 0000 0001 0101 0108 080a 0a3d 3d85 85ba ba92 92c4 c4f7 f763 634c 4cd5 d51d 1d9f 9fd3 d334 34c5 c57f 7f42 42bb bb8a 8a34 34cd cd46 46a1 a123 23db dbdd dde3 e3f9 f922 2238 381e 1e37 3784 8451 51a9 a989 89d9 d910 1013 1326 26c7 c718 1856 569e",
         "64"
        ],
        [
         "278593",
         "0",
         "01bb bb06 0656 5645 45b8 b8b9 b9cb cba2 a2e3 e380 8018 1808 0800 0040 40a2 a200 0000 0001 0101 0108 080a 0a3d 3d85 85ba ba92 92c4 c4f7 f763 634c 4c17 1703 0303 0300 001a 1a8d 8da0 a0ec ec2c 2ca0 a085 85e7 e74d 4d18 1864 64d1 d1b7 b74b 4b3f 3fec eca3 a3ba ba79 793c 3c45 457a 7aef eff6 f61f 1fb0 b0cb",
         "60"
        ],
        [
         "221127",
         "0",
         "01bb bb06 068d 8d24 2449 4911 1141 411e 1e97 9780 8018 1801 0179 79b7 b72c 2c00 0000 0001 0101 0108 080a 0a1c 1c68 68e4 e4d1 d181 8123 23d6 d61f 1f14 1403 0303 0300 0001 0101 0117 1703 0303 0300 0045 457d 7d34 3451 5183 832e 2e91 9120 209f 9f92 928c 8ce7 e775 75a1 a1df df25 2570 7096 968e 8ebe beb7 b7ed eda1 a127 27c4",
         "64"
        ],
        [
         "384121",
         "0",
         "01bb bb06 068d 8d2a 2a41 4111 1141 411f 1fc6 c680 8018 1801 0184 8469 69d3 d300 0000 0001 0101 0108 080a 0a1c 1c68 68e4 e4f6 f681 8123 23d6 d62d 2de5 e535 3528 2854 548b 8b06 0606 066c 6c79 7926 2622 2242 4206 0683 8361 618f 8f9b 9bea eae1 e122 2250 506b 6b35 35e2 e2a0 a0ba ba64 646a 6acf cfd1 d12d 2dcc cc63 6390 902e",
         "64"
        ],
        [
         "394735",
         "0",
         "01bb bb06 06db db58 5856 56fd fd95 95a7 a747 4780 8018 1801 0179 7925 25d6 d600 0000 0001 0101 0108 080a 0a58 5871 71fe fec7 c750 507e 7e8f 8f9d 9d14 1403 0303 0300 0001 0101 0117 1703 0303 0300 0045 45c0 c060 607e 7e2d 2deb eb4d 4d7c 7c98 9860 6007 0740 4072 722c 2cd9 d9e4 e430 3032 320a 0a8a 8aa5 a575 75de dee8 e8fd",
         "64"
        ],
        [
         "334210",
         "0",
         "01bb bb07 079a 9acd cd84 8422 2225 256c 6c7e 7e80 8018 1801 0105 05ca ca23 2300 0000 0001 0101 0108 080a 0ab0 b002 0204 040c 0c81 8144 4495 95ce ce14 1403 0303 0300 0001 0101 0117 1703 0303 0300 0045 45cf cf1d 1dcf cfda da26 2606 06a1 a191 9157 5764 6426 26d8 d8c8 c806 06d7 d79d 9da0 a094 9468 68b9 b916 16ef ef66 66b9",
         "64"
        ],
        [
         "197141",
         "0",
         "01bb bb08 080c 0c37 37b3 b3ac ac58 58a3 a3c0 c080 8018 1800 00a2 a24c 4c05 0500 0000 0001 0101 0108 080a 0a0d 0df2 f20e 0ecd cd74 7454 542f 2f0e 0e14 1403 0303 0300 0001 0101 0117 1703 0303 0300 0045 45b2 b2ce cea6 a609 093a 3a14 144d 4d39 3951 5159 5933 33a2 a219 1964 64d9 d912 12b8 b86d 6d3b 3b51 517c 7ca3 a307 076e",
         "64"
        ],
        [
         "431898",
         "0",
         "01bb bb09 097e 7e92 9214 14c6 c6ef ef6b 6bfd fd50 5018 1801 0179 7938 38a8 a800 0000 0017 1703 0303 0300 0051 5143 43c1 c18c 8c6e 6ed2 d276 76a4 a4dd ddb2 b212 12a8 a8cb cb60 6015 153f 3f2a 2a88 88d4 d419 1907 070c 0c39 39c4 c498 98b7 b7c9 c934 3448 483c 3c27 2743 43c1 c133 333d 3d8a 8a59 59f1 f1b0 b06b 6bc8 c86d 6d86",
         "64"
        ],
        [
         "171202",
         "0",
         "01bb bb09 09be be5b 5b2a 2a87 8728 28b6 b6d9 d980 8018 1801 0105 0546 4617 1700 0000 0001 0101 0108 080a 0ac7 c752 5249 492b 2b80 80e2 e204 0414 1417 1703 0303 0300 001a 1a03 0387 87c8 c8f7 f7f3 f33c 3c4c 4cc9 c9b6 b62e 2eb1 b170 70cc cca2 a2a2 a2c7 c717 1706 0632 32ae ae43 4357 579a 9a7f 7f92 92d5",
         "60"
        ],
        [
         "334568",
         "0",
         "01bb bb09 09ea eab7 b7c2 c230 309d 9d9b 9b6b 6b80 8018 1808 0800 00ba bae6 e600 0000 0001 0101 0108 080a 0a39 396f 6fc6 c6bc bc81 8115 1559 59a7 a717 1703 0303 0300 001e 1e59 5951 51fb fb19 19fb fb4c 4c97 973b 3b7b 7ba7 a757 57a1 a15c 5c1a 1ad7 d705 0536 36c8 c8ad ad23 23a2 a266 6692 9270 704b 4b7c 7c31 31aa aa2d 2dc8",
         "64"
        ],
        [
         "420932",
         "0",
         "01bb bb09 09fc fcdc dcf1 f1ca caa3 a37f 7f2d 2d50 5018 1804 0401 012f 2fac ac00 0000 0017 1703 0303 0301 01cc cc29 29c3 c312 1231 3127 27f7 f7b3 b3fb fbe7 e71c 1cb8 b88f 8f8f 8f94 9477 7719 19f8 f8fd fd05 05d0 d040 4043 4336 36f3 f3df df32 32c4 c427 27c1 c100 00dc dc4b 4b81 816b 6bfa fa54 5441 4127 275c 5c64 64ed ed2f",
         "64"
        ],
        [
         "257568",
         "0",
         "01bb bb0b 0b7a 7a03 031e 1e76 769a 9a41 4151 5180 8018 1801 0179 7920 204f 4f00 0000 0001 0101 0108 080a 0a7b 7bce ce8f 8f97 97c4 c450 506e 6eca ca17 1703 0303 0300 0057 5706 0646 46d6 d6f0 f0b1 b15d 5d9b 9b57 577f 7fe1 e1d1 d140 4055 55da da1d 1d12 120b 0b37 37e9 e918 1892 926f 6f0b 0b18 1800 0090 903a 3a4d 4dc0 c0fa",
         "64"
        ],
        [
         "95082",
         "0",
         "01bb bb0b 0b7a 7a0e 0efd fd76 769a 9a41 4151 5180 8010 1001 0179 7948 4858 5800 0000 0001 0101 0108 080a 0a7b 7bce ce8f 8f9b 9bc4 c450 506e 6eca ca80 8010 10b6 b600 0023 2350 507b 7b31 31d8 d8da dacb cb25 2563 6363 6363 63c8 c8e0 e0af afee ee8c 8c30 3093 934a 4a16 163b 3bdf dfd9 d9ce ceb6 b621 21fe fe09 09dd dd9c 9c7f",
         "64"
        ],
        [
         "437617",
         "0",
         "01bb bb0b 0b7a 7a11 1121 2176 769a 9a42 4280 8080 8010 1001 0184 848f 8fcf cf00 0000 0001 0101 0108 080a 0a7b 7bce ce8f 8fc2 c2c4 c450 506e 6ed9 d920 2074 742d 2d18 180e 0e96 9682 824e 4ea5 a56b 6b05 0559 5991 91eb ebaa aa57 5721 21b6 b6a0 a098 9880 8038 38d5 d512 12d6 d6fa fa40 40f1 f143 43bb bb24 2417 1732 32cb cb1b",
         "64"
        ],
        [
         "445279",
         "0",
         "01bb bb0d 0d22 2246 4672 7246 465f 5f4c 4c4c 4cd0 d010 1000 0090 90a1 a148 4800 0000 0001 0101 0108 080a 0a13 13cc cc2e 2e4f 4f87 87b5 b5bf bf1c 1c01 0101 0105 0512 1246 465f 5f4a 4a28 2846 465f 5f4c 4c4c 4c46 465f 5f54 54dc dc46 465f 5f56 562d",
         "49"
        ],
        [
         "400570",
         "0",
         "01bb bb0d 0d22 2247 4718 1846 465f 5f56 562d 2d80 8010 1000 00a2 a2f9 f9f3 f300 0000 0001 0101 0108 080a 0a13 13cc cc2f 2fb2 b287 87b5 b5bf bf73 7317 1703 0303 0307 0750 50b5 b5b4 b44a 4a0b 0b01 0151 51c0 c056 5649 49ac ac5d 5dd6 d68b 8b67 6718 188b 8bfa faac acbe be56 5631 3147 4766 6668 6870 70bc bc84 8477 77b3 b389",
         "64"
        ],
        [
         "327207",
         "0",
         "01bb bb0d 0d22 224d 4d84 8446 465f 5f56 562d 2d80 8018 1800 00a2 a2f9 f982 8200 0000 0001 0101 0108 080a 0a13 13cc cc2f 2fb2 b287 87b5 b5bf bf73 730d 0dd8 d821 2123 2396 9640 4063 63f2 f2ce ce2c 2c5b 5be4 e454 5425 25cb cb59 591c 1c37 37f8 f8cf cf4b 4bcb cb1e 1ee8 e859 5981 8140 40ec ec2a 2a2b 2be0 e077 777e 7e79 7949",
         "64"
        ],
        [
         "402430",
         "0",
         "01bb bb0d 0d47 4773 73ce ce08 082a 2ad4 d49b 9b80 8018 1801 01b1 b15c 5c50 5000 0000 0001 0101 0108 080a 0a7a 7a5c 5c2f 2f3e 3e9f 9fc9 c928 281f 1ff9 f993 9353 5367 67ba ba13 131c 1c89 8984 841c 1c30 3041 410a 0ab8 b85f 5f7b 7b45 45bf bf7c 7ced ed9f 9ff3 f39f 9f10 1004 049b 9b12 129f 9fa3 a3cd cda5 a579 79c1 c138 38b4",
         "64"
        ],
        [
         "234600",
         "0",
         "01bb bb0d 0d47 4776 7660 6008 082a 2ae0 e063 6380 8010 1001 01d3 d36b 6b17 1700 0000 0001 0101 0108 080a 0a7a 7a5c 5c58 584c 4c9f 9fc9 c974 7473 7317 1703 0303 030b 0be5 e532 3220 2040 4059 598b 8b0c 0c1a 1abc bc93 937a 7a17 17ae ae4b 4bf1 f1aa aa5a 5a1a 1a4e 4e23 23a2 a2cc cc10 1025 2517 17ad ad6c 6cad ad88 8886 869c",
         "64"
        ],
        [
         "426364",
         "0",
         "01bb bb0d 0d47 4782 824a 4a08 082a 2ae0 e063 6380 8018 1801 01d3 d3ce cefa fa00 0000 0001 0101 0108 080a 0a7a 7a5c 5c58 5870 709f 9fc9 c99d 9d53 5317 1703 0303 0300 001a 1a4b 4b05 053b 3b51 51c5 c574 742e 2ebb bb27 27ff ff62 62ff ff5a 5a8d 8d09 0912 1255 55ab ab18 189a 9a44 4482 828f 8f7a 7a80 80c6",
         "60"
        ],
        [
         "157185",
         "0",
         "01bb bb0d 0d47 4799 9929 2908 082a 2aef efaf af80 8010 1002 0222 22bc bc94 9400 0000 0001 0101 0108 080a 0a7a 7a5c 5cb4 b464 649f 9fc9 c9e5 e560 6017 1703 0303 0306 063b 3bd3 d30b 0b05 0524 24fe fec8 c8a5 a57e 7e0e 0e6a 6a7e 7e5a 5a91 9128 28e9 e9a4 a4eb ebdf dfb2 b2ec ec2f 2f1e 1e40 4030 302c 2c85 8504 04e0 e005 05cf",
         "64"
        ],
        [
         "412887",
         "0",
         "01bb bb0d 0d47 47b6 b633 3308 082a 2afb fb19 1980 8018 1802 0250 507a 7aac ac00 0000 0001 0101 0108 080a 0a7a 7a5c 5ceb eb06 069f 9fca ca2f 2fe6 e617 1703 0303 0300 001a 1acf cfe1 e1ea ea5a 5a16 16f0 f05a 5a1d 1db7 b7f1 f108 0811 1122 2295 9547 4763 6392 9220 20a9 a952 52b7 b7ae aee2 e243 4309 0962",
         "60"
        ],
        [
         "88641",
         "0",
         "01bb bb0d 0d67 673a 3af1 f145 45e1 e1a8 a82e 2e80 8018 1808 0800 0043 433a 3a00 0000 0001 0101 0108 080a 0a38 3841 41c9 c9b6 b636 36f1 f161 610d 0d17 1703 0303 0300 0029 2939 3913 1333 3315 1592 92ab abce ce6c 6c24 24bd bda8 a885 8509 09f9 f918 18e9 e9d4 d404 04a8 a822 229a 9ac0 c034 3412 125c 5c79 79ff ff52 52b6 b6e3",
         "64"
        ],
        [
         "32624",
         "0",
         "01bb bb0d 0d67 673f 3f79 7945 45e1 e1a8 a82e 2e80 8018 1808 0800 00a5 a588 8800 0000 0001 0101 0108 080a 0a38 3841 41c9 c9ca ca36 36f1 f161 610d 0db9 b9bb bbac ac8c 8c3b 3b21 2192 9232 327e 7e07 077a 7aee eea2 a29d 9db8 b8e1 e1bc bc89 8919 1978 78b4 b4fc fc7c 7c78 7815 15c1 c11b 1b64 6442 42bc bc15 1561 61b7 b7b4 b480",
         "64"
        ],
        [
         "78497",
         "0",
         "01bb bb0d 0d9a 9a4d 4d18 18e4 e442 4231 316a 6a50 5018 1801 0179 79fc fc14 1400 0000 0014 1403 0303 0300 0001 0101 0117 1703 0303 0300 0045 4536 368e 8e11 1129 2919 1969 69f6 f690 90db dbed ed71 71e7 e7fd fd2d 2d90 9066 6601 014d 4dba bad0 d09f 9fbf bf26 26e6 e638 3835 3500 003a 3a2a 2a5e 5e4e 4ebe bead ad07 07ca ca3c",
         "64"
        ],
        [
         "365576",
         "0",
         "01bb bb0d 0d9a 9a53 538c 8ce4 e442 425f 5f58 5850 5018 1801 01eb ebe8 e809 0900 0000 0017 1703 0303 0300 0013 13d7 d775 7582 82a3 a370 70b5 b530 3008 08dc dc79 7942 4251 51f3 f340 401e 1e1e 1e62 620b 0b27",
         "41"
        ],
        [
         "109225",
         "0",
         "01bb bb0f 0f4e 4e61 6147 4761 613e 3e9c 9c2a 2a80 8010 1010 1000 0072 72ff ff00 0000 0001 0101 0108 080a 0a0d 0dbf bf29 2989 89cb cbe2 e2df df97 9717 1703 0303 0302 02fb fb73 7398 98f3 f3a3 a3c3 c334 34f8 f81a 1a0f 0f68 68d6 d663 6392 92e4 e47e 7e2a 2afb fbb1 b1aa aa91 91fd fdb9 b964 649d 9d97 973e 3ee5 e5f9 f9e7 e72d",
         "64"
        ],
        [
         "308516",
         "0",
         "01bb bb0f 0f4e 4e6b 6bb9 b961 613e 3ea5 a57c 7c80 8018 1810 1000 003c 3cd5 d500 0000 0001 0101 0108 080a 0a0d 0dbf bf37 37e3 e3cb cbe2 e2e3 e344 4417 1703 0303 0301 016a 6aa0 a04a 4adf dfff ffed eda3 a318 184b 4b99 9954 5412 12a4 a4e2 e290 9083 8394 943a 3a13 13c3 c321 2152 52b4 b473 73cc cc92 927e 7ea0 a0c4 c454 5413",
         "64"
        ],
        [
         "6220",
         "0",
         "01bb bb0f 0f4e 4e6d 6d28 2861 613e 3ea5 a57c 7c80 8018 1810 1000 00d7 d722 2200 0000 0001 0101 0108 080a 0a0d 0dbf bf37 37e7 e7cb cbe2 e2e3 e344 4417 1703 0303 0301 01c1 c1d0 d043 4339 3952 5292 920a 0a8b 8b81 81e5 e569 69ab ab28 2892 9209 09f8 f89d 9dc1 c1c5 c54f 4f95 95fd fd7c 7c50 5064 64f0 f006 06e0 e0dd dd00 00c9",
         "64"
        ],
        [
         "144355",
         "0",
         "01bb bb0f 0f8d 8d44 44bd bdfa fa52 525a 5ae7 e780 8018 1808 0800 0055 550d 0d00 0000 0001 0101 0108 080a 0a1a 1ace ce09 0967 671d 1d9a 9a1d 1dec ec17 1703 0303 0300 0026 2664 6432 3296 96d7 d7bb bb48 4886 86fe fe9e 9ef8 f827 27ee eeb4 b4bb bb2d 2d68 6808 08f2 f2d1 d1b3 b3ad ad1b 1bec eca4 a40c 0c6f 6fba baf8 f88f 8f2a",
         "64"
        ],
        [
         "346489",
         "0",
         "01bb bb0f 0f8d 8d45 450b 0bfa fa52 525a 5ae7 e780 8018 1808 0800 00e8 e8fd fd00 0000 0001 0101 0108 080a 0a1a 1ace ce09 0967 671d 1d9a 9a1d 1dec ec17 1703 0303 0301 0184 844c 4cbf bf75 75bb bb29 29e1 e1fe feb6 b665 65db dbd9 d900 00ad addc dcee eea0 a03f 3fd0 d00d 0d36 3662 62ae ae00 00ce cec4 c495 9578 7884 842e 2ef6",
         "64"
        ],
        [
         "142996",
         "0",
         "01bb bb0f 0ff6 f65b 5b93 9345 45c1 c1d9 d9b6 b650 5018 1801 01fe fe39 3914 1400 0000 0014 1403 0303 0300 0001 0101 0117 1703 0303 0300 0045 456b 6b84 843a 3a98 985f 5ff0 f08f 8fbc bc1c 1ca3 a3d0 d044 4408 0812 12cd cdbe be4a 4a06 060a 0ab7 b77e 7eb7 b781 8124 242d 2d82 8251 5176 7696 9629 2927 2784 8486 8615 1542 42ad",
         "64"
        ]
       ],
       "shape": {
        "columns": 3,
        "rows": 4000
       }
      },
      "text/html": [
       "<div>\n",
       "<style scoped>\n",
       "    .dataframe tbody tr th:only-of-type {\n",
       "        vertical-align: middle;\n",
       "    }\n",
       "\n",
       "    .dataframe tbody tr th {\n",
       "        vertical-align: top;\n",
       "    }\n",
       "\n",
       "    .dataframe thead th {\n",
       "        text-align: right;\n",
       "    }\n",
       "</style>\n",
       "<table border=\"1\" class=\"dataframe\">\n",
       "  <thead>\n",
       "    <tr style=\"text-align: right;\">\n",
       "      <th></th>\n",
       "      <th>label</th>\n",
       "      <th>text_a</th>\n",
       "      <th>packet_seq_len</th>\n",
       "    </tr>\n",
       "  </thead>\n",
       "  <tbody>\n",
       "    <tr>\n",
       "      <th>156366</th>\n",
       "      <td>0</td>\n",
       "      <td>01bb bb02 0262 6271 71c6 c61d 1d87 87f2 f2c3 c...</td>\n",
       "      <td>48</td>\n",
       "    </tr>\n",
       "    <tr>\n",
       "      <th>11605</th>\n",
       "      <td>0</td>\n",
       "      <td>01bb bb02 026f 6f73 73d3 d32a 2a79 7906 069b 9...</td>\n",
       "      <td>64</td>\n",
       "    </tr>\n",
       "    <tr>\n",
       "      <th>303233</th>\n",
       "      <td>0</td>\n",
       "      <td>01bb bb02 026f 6f78 78c7 c72a 2a79 7906 069b 9...</td>\n",
       "      <td>64</td>\n",
       "    </tr>\n",
       "    <tr>\n",
       "      <th>132340</th>\n",
       "      <td>0</td>\n",
       "      <td>01bb bb02 026f 6f83 83a7 a72a 2a79 7909 0940 4...</td>\n",
       "      <td>60</td>\n",
       "    </tr>\n",
       "    <tr>\n",
       "      <th>323343</th>\n",
       "      <td>0</td>\n",
       "      <td>01bb bb03 0375 75a4 a4aa aa9b 9b98 980d 0d55 5...</td>\n",
       "      <td>64</td>\n",
       "    </tr>\n",
       "    <tr>\n",
       "      <th>...</th>\n",
       "      <td>...</td>\n",
       "      <td>...</td>\n",
       "      <td>...</td>\n",
       "    </tr>\n",
       "    <tr>\n",
       "      <th>248567</th>\n",
       "      <td>0</td>\n",
       "      <td>fe92 92e6 e6e4 e440 40db db9a 9a4a 4a1a 1ab7 b...</td>\n",
       "      <td>64</td>\n",
       "    </tr>\n",
       "    <tr>\n",
       "      <th>266964</th>\n",
       "      <td>0</td>\n",
       "      <td>fe92 92e6 e6e4 e442 4248 489a 9a4a 4a1b 1b10 1...</td>\n",
       "      <td>60</td>\n",
       "    </tr>\n",
       "    <tr>\n",
       "      <th>299009</th>\n",
       "      <td>0</td>\n",
       "      <td>ff34 3410 1098 984e 4eac ac3c 3c19 19f6 f6dc d...</td>\n",
       "      <td>64</td>\n",
       "    </tr>\n",
       "    <tr>\n",
       "      <th>448518</th>\n",
       "      <td>0</td>\n",
       "      <td>ffc2 c280 808c 8c5b 5b6b 6b94 94ab ab11 117b 7...</td>\n",
       "      <td>64</td>\n",
       "    </tr>\n",
       "    <tr>\n",
       "      <th>138894</th>\n",
       "      <td>0</td>\n",
       "      <td>ffc2 c280 808c 8c68 6843 4394 94ab ab11 117b 7...</td>\n",
       "      <td>64</td>\n",
       "    </tr>\n",
       "  </tbody>\n",
       "</table>\n",
       "<p>4000 rows × 3 columns</p>\n",
       "</div>"
      ],
      "text/plain": [
       "        label                                             text_a  \\\n",
       "156366      0  01bb bb02 0262 6271 71c6 c61d 1d87 87f2 f2c3 c...   \n",
       "11605       0  01bb bb02 026f 6f73 73d3 d32a 2a79 7906 069b 9...   \n",
       "303233      0  01bb bb02 026f 6f78 78c7 c72a 2a79 7906 069b 9...   \n",
       "132340      0  01bb bb02 026f 6f83 83a7 a72a 2a79 7909 0940 4...   \n",
       "323343      0  01bb bb03 0375 75a4 a4aa aa9b 9b98 980d 0d55 5...   \n",
       "...       ...                                                ...   \n",
       "248567      0  fe92 92e6 e6e4 e440 40db db9a 9a4a 4a1a 1ab7 b...   \n",
       "266964      0  fe92 92e6 e6e4 e442 4248 489a 9a4a 4a1b 1b10 1...   \n",
       "299009      0  ff34 3410 1098 984e 4eac ac3c 3c19 19f6 f6dc d...   \n",
       "448518      0  ffc2 c280 808c 8c5b 5b6b 6b94 94ab ab11 117b 7...   \n",
       "138894      0  ffc2 c280 808c 8c68 6843 4394 94ab ab11 117b 7...   \n",
       "\n",
       "        packet_seq_len  \n",
       "156366              48  \n",
       "11605               64  \n",
       "303233              64  \n",
       "132340              60  \n",
       "323343              64  \n",
       "...                ...  \n",
       "248567              64  \n",
       "266964              60  \n",
       "299009              64  \n",
       "448518              64  \n",
       "138894              64  \n",
       "\n",
       "[4000 rows x 3 columns]"
      ]
     },
     "execution_count": 12,
     "metadata": {},
     "output_type": "execute_result"
    }
   ],
   "source": [
    "# Look at one example label\n",
    "#  order by the text itself\n",
    "train[train.label == 0].sort_values(by='text_a')"
   ]
  },
  {
   "cell_type": "markdown",
   "id": "de0b0c65",
   "metadata": {},
   "source": [
    "I think you can clearly see paterns in the headers, at least in the first 56 bytes"
   ]
  },
  {
   "cell_type": "code",
   "execution_count": 13,
   "id": "847d89cd",
   "metadata": {},
   "outputs": [
    {
     "data": {
      "text/plain": [
       "[0, 2, 3, 4, 6, 7, 9, 10, 11, 12]"
      ]
     },
     "execution_count": 13,
     "metadata": {},
     "output_type": "execute_result"
    }
   ],
   "source": [
    "dir = os.path.join(path, \"..\\\\ten_classes\")\n",
    "classes = full_labels[:10]\n",
    "classes"
   ]
  },
  {
   "cell_type": "code",
   "execution_count": 14,
   "id": "0991422b",
   "metadata": {},
   "outputs": [],
   "source": [
    "train_ten = train[train['label'].isin(classes)][['label', 'text_a']]\n",
    "test_ten = test[test['label'].isin(classes)][['label', 'text_a']]\n",
    "valid_ten = valid[valid['label'].isin(classes)][['label', 'text_a']]\n",
    "\n",
    "# store as tsv files\n",
    "train_ten.to_csv(os.path.join(dir, 'train_ten.tsv'), sep='\\t', index=False)\n",
    "test_ten.to_csv(os.path.join(dir, 'test_ten.tsv'), sep='\\t', index=False)\n",
    "valid_ten.to_csv(os.path.join(dir, 'valid_ten.tsv'), sep='\\t', index=False)"
   ]
  }
 ],
 "metadata": {
  "kernelspec": {
   "display_name": "cs236781-hw",
   "language": "python",
   "name": "python3"
  },
  "language_info": {
   "codemirror_mode": {
    "name": "ipython",
    "version": 3
   },
   "file_extension": ".py",
   "mimetype": "text/x-python",
   "name": "python",
   "nbconvert_exporter": "python",
   "pygments_lexer": "ipython3",
   "version": "3.8.12"
  }
 },
 "nbformat": 4,
 "nbformat_minor": 5
}
